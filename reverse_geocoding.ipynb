{
 "cells": [
  {
   "cell_type": "markdown",
   "id": "6448ffc7",
   "metadata": {},
   "source": [
    "# Geocoding and Reverse Geocoding with OpenCage\n",
    "\n",
    "This notebook helps you convert addresses into geographic coordinates (geocoding) and coordinates into addresses (reverse geocoding) using the OpenCage API.\n",
    "\n",
    "## Steps:\n",
    "1. Make sure the file `.env` exists in this folder and contains your API key.\n",
    "2. Run the first cell to install required packages.\n",
    "3. Use the geocoding cell to get coordinates from an address.\n",
    "4. Use the reverse geocoding cell to get an address from coordinates."
   ]
  },
  {
   "cell_type": "code",
   "execution_count": null,
   "id": "0fe29cfe",
   "metadata": {},
   "outputs": [],
   "source": [
    "pip install python-dotenv"
   ]
  },
  {
   "cell_type": "code",
   "execution_count": null,
   "id": "46b6ebce",
   "metadata": {},
   "outputs": [],
   "source": [
    "pip install opencage"
   ]
  },
  {
   "cell_type": "code",
   "execution_count": null,
   "id": "67bc8c72",
   "metadata": {},
   "outputs": [],
   "source": [
    "pip install requests"
   ]
  },
  {
   "cell_type": "code",
   "execution_count": null,
   "id": "23a4fb72",
   "metadata": {},
   "outputs": [],
   "source": [
    "# Geocode an address (address -> coordinates)\n",
    "from dotenv import load_dotenv\n",
    "import os\n",
    "from opencage.geocoder import OpenCageGeocode\n",
    "\n",
    "load_dotenv()\n",
    "key = os.getenv('OPENCAGE_API_KEY')\n",
    "geocoder = OpenCageGeocode(key)\n",
    "\n",
    "# Enter your address below\n",
    "address = 'São Paulo, Brazil'\n",
    "results = geocoder.geocode(address)\n",
    "\n",
    "if results:\n",
    "    lat = results[0]['geometry']['lat']\n",
    "    lng = results[0]['geometry']['lng']\n",
    "    print(f'Coordinates for \"{address}\":')\n",
    "    print(f'Latitude: {lat}, Longitude: {lng}')\n",
    "else:\n",
    "    print('No results found.')"
   ]
  },
  {
   "cell_type": "code",
   "execution_count": null,
   "id": "79678ef4",
   "metadata": {},
   "outputs": [],
   "source": [
    "# Reverse geocode coordinates (coordinates -> address)\n",
    "from dotenv import load_dotenv\n",
    "import os\n",
    "from opencage.geocoder import OpenCageGeocode\n",
    "\n",
    "load_dotenv()\n",
    "key = os.getenv('OPENCAGE_API_KEY')\n",
    "geocoder = OpenCageGeocode(key)\n",
    "\n",
    "# Load your coordinates from a csv\n",
    "\n",
    "latitude = -8.393900185710795\n",
    "longitude = -74.58827218108304\n",
    "results = geocoder.reverse_geocode(latitude, longitude)\n",
    "\n",
    "if results:\n",
    "    address = results[0]['formatted']\n",
    "    print(f'Address for coordinates ({latitude}, {longitude}):')\n",
    "    print(address)\n",
    "else:\n",
    "    print('No results found.')"
   ]
  },
  {
   "cell_type": "markdown",
   "id": "7304ca9c",
   "metadata": {},
   "source": [
    "## "
   ]
  },
  {
   "cell_type": "markdown",
   "id": "a91c61be",
   "metadata": {},
   "source": [
    "## Running from CLI\n",
    "\n",
    "You can also run geocoding in bulk using the CLI tool.\n",
    "\n",
    "```bash\n",
    "opencage forward --api-key dccd2420401b48bda813c3e2daeacae5 --input addresses_utf8.csv --output coordinates.csv\n",
    "opencage forward --api-key dccd2420401b48bda813c3e2daeacae5 --input addresses.csv --output coordinates.csv --optional-api-params 'language=es'\n",
    "\n",
    "````"
   ]
  },
  {
   "cell_type": "code",
   "execution_count": 4,
   "id": "a883c73d",
   "metadata": {},
   "outputs": [
    {
     "name": "stdout",
     "output_type": "stream",
     "text": [
      "Resultados guardados en resultados.csv\n"
     ]
    }
   ],
   "source": [
    "# Procesar archivo de coordenadas y guardar direcciones en un CSV\n",
    "import csv\n",
    "from dotenv import load_dotenv\n",
    "import os\n",
    "from opencage.geocoder import OpenCageGeocode\n",
    "\n",
    "load_dotenv()\n",
    "key = os.getenv('OPENCAGE_API_KEY')\n",
    "geocoder = OpenCageGeocode(key)\n",
    "\n",
    "input_file = '/Users/axelcasas/Documents/reverse_geocoding/reverse_geocoding_batch_processor/Prueba_OpenCAge.csv'\n",
    "output_file = 'resultados.csv'\n",
    "\n",
    "with open(input_file, 'r', encoding='utf-8') as f_in, open(output_file, 'w', newline='', encoding='utf-8') as f_out:\n",
    "    writer = csv.writer(f_out)\n",
    "    writer.writerow(['latitude', 'longitude', 'address'])\n",
    "    for line in f_in:\n",
    "        line = line.strip()\n",
    "        if not line:\n",
    "            continue\n",
    "        try:\n",
    "            lat, lng = map(float, line.split(','))\n",
    "            results = geocoder.reverse_geocode(lat, lng)\n",
    "            address = results[0]['formatted'] if results else 'No result'\n",
    "            writer.writerow([lat, lng, address])\n",
    "        except Exception as e:\n",
    "            writer.writerow([line, '', f'Error: {e}'])\n",
    "print(f'Resultados guardados en {output_file}')"
   ]
  }
 ],
 "metadata": {
  "kernelspec": {
   "display_name": "Python 3",
   "language": "python",
   "name": "python3"
  },
  "language_info": {
   "codemirror_mode": {
    "name": "ipython",
    "version": 3
   },
   "file_extension": ".py",
   "mimetype": "text/x-python",
   "name": "python",
   "nbconvert_exporter": "python",
   "pygments_lexer": "ipython3",
   "version": "3.9.6"
  }
 },
 "nbformat": 4,
 "nbformat_minor": 5
}
