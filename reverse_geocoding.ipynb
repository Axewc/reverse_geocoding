{
 "cells": [
  {
   "cell_type": "markdown",
   "id": "6448ffc7",
   "metadata": {},
   "source": [
    "# Geocoding and Reverse Geocoding with OpenCage\n",
    "\n",
    "This notebook helps you convert addresses into geographic coordinates (geocoding) and coordinates into addresses (reverse geocoding) using the OpenCage API.\n",
    "\n",
    "## Steps:\n",
    "1. Make sure the file `.env` exists in this folder and contains your API key.\n",
    "2. Run the first cell to install required packages.\n",
    "3. Use the geocoding cell to get coordinates from an address.\n",
    "4. Use the reverse geocoding cell to get an address from coordinates."
   ]
  },
  {
   "cell_type": "code",
   "execution_count": 3,
   "id": "0fe29cfe",
   "metadata": {},
   "outputs": [
    {
     "name": "stdout",
     "output_type": "stream",
     "text": [
      "Collecting python-dotenv\n",
      "  Downloading python_dotenv-1.1.1-py3-none-any.whl.metadata (24 kB)\n",
      "Downloading python_dotenv-1.1.1-py3-none-any.whl (20 kB)\n",
      "Installing collected packages: python-dotenv\n",
      "Successfully installed python-dotenv-1.1.1\n",
      "Note: you may need to restart the kernel to use updated packages.\n"
     ]
    },
    {
     "name": "stderr",
     "output_type": "stream",
     "text": [
      "\n",
      "[notice] A new release of pip is available: 25.1.1 -> 25.2\n",
      "[notice] To update, run: python.exe -m pip install --upgrade pip\n"
     ]
    }
   ],
   "source": [
    "pip install python-dotenv"
   ]
  },
  {
   "cell_type": "code",
   "execution_count": 4,
   "id": "46b6ebce",
   "metadata": {},
   "outputs": [
    {
     "name": "stdout",
     "output_type": "stream",
     "text": [
      "Requirement already satisfied: opencage in c:\\users\\axelcasasespinosa\\appdata\\local\\programs\\python\\python313\\lib\\site-packages (3.2.0)\n",
      "Requirement already satisfied: Requests>=2.31.0 in c:\\users\\axelcasasespinosa\\appdata\\local\\programs\\python\\python313\\lib\\site-packages (from opencage) (2.32.4)\n",
      "Requirement already satisfied: backoff>=2.2.1 in c:\\users\\axelcasasespinosa\\appdata\\local\\programs\\python\\python313\\lib\\site-packages (from opencage) (2.2.1)\n",
      "Requirement already satisfied: tqdm>=4.66.4 in c:\\users\\axelcasasespinosa\\appdata\\local\\programs\\python\\python313\\lib\\site-packages (from opencage) (4.67.1)\n",
      "Requirement already satisfied: certifi>=2024.07.04 in c:\\users\\axelcasasespinosa\\appdata\\local\\programs\\python\\python313\\lib\\site-packages (from opencage) (2025.7.9)\n",
      "Requirement already satisfied: aiohttp>=3.10.5 in c:\\users\\axelcasasespinosa\\appdata\\local\\programs\\python\\python313\\lib\\site-packages (from opencage) (3.12.15)\n",
      "Requirement already satisfied: aiohappyeyeballs>=2.5.0 in c:\\users\\axelcasasespinosa\\appdata\\local\\programs\\python\\python313\\lib\\site-packages (from aiohttp>=3.10.5->opencage) (2.6.1)\n",
      "Requirement already satisfied: aiosignal>=1.4.0 in c:\\users\\axelcasasespinosa\\appdata\\local\\programs\\python\\python313\\lib\\site-packages (from aiohttp>=3.10.5->opencage) (1.4.0)\n",
      "Requirement already satisfied: attrs>=17.3.0 in c:\\users\\axelcasasespinosa\\appdata\\local\\programs\\python\\python313\\lib\\site-packages (from aiohttp>=3.10.5->opencage) (25.3.0)\n",
      "Requirement already satisfied: frozenlist>=1.1.1 in c:\\users\\axelcasasespinosa\\appdata\\local\\programs\\python\\python313\\lib\\site-packages (from aiohttp>=3.10.5->opencage) (1.7.0)\n",
      "Requirement already satisfied: multidict<7.0,>=4.5 in c:\\users\\axelcasasespinosa\\appdata\\local\\programs\\python\\python313\\lib\\site-packages (from aiohttp>=3.10.5->opencage) (6.6.4)\n",
      "Requirement already satisfied: propcache>=0.2.0 in c:\\users\\axelcasasespinosa\\appdata\\local\\programs\\python\\python313\\lib\\site-packages (from aiohttp>=3.10.5->opencage) (0.3.2)\n",
      "Requirement already satisfied: yarl<2.0,>=1.17.0 in c:\\users\\axelcasasespinosa\\appdata\\local\\programs\\python\\python313\\lib\\site-packages (from aiohttp>=3.10.5->opencage) (1.20.1)\n",
      "Requirement already satisfied: idna>=2.0 in c:\\users\\axelcasasespinosa\\appdata\\local\\programs\\python\\python313\\lib\\site-packages (from yarl<2.0,>=1.17.0->aiohttp>=3.10.5->opencage) (3.10)\n",
      "Requirement already satisfied: charset_normalizer<4,>=2 in c:\\users\\axelcasasespinosa\\appdata\\local\\programs\\python\\python313\\lib\\site-packages (from Requests>=2.31.0->opencage) (3.4.2)\n",
      "Requirement already satisfied: urllib3<3,>=1.21.1 in c:\\users\\axelcasasespinosa\\appdata\\local\\programs\\python\\python313\\lib\\site-packages (from Requests>=2.31.0->opencage) (2.5.0)\n",
      "Requirement already satisfied: colorama in c:\\users\\axelcasasespinosa\\appdata\\local\\programs\\python\\python313\\lib\\site-packages (from tqdm>=4.66.4->opencage) (0.4.6)\n",
      "Note: you may need to restart the kernel to use updated packages.\n"
     ]
    },
    {
     "name": "stderr",
     "output_type": "stream",
     "text": [
      "\n",
      "[notice] A new release of pip is available: 25.1.1 -> 25.2\n",
      "[notice] To update, run: python.exe -m pip install --upgrade pip\n"
     ]
    }
   ],
   "source": [
    "pip install opencage"
   ]
  },
  {
   "cell_type": "code",
   "execution_count": 5,
   "id": "67bc8c72",
   "metadata": {},
   "outputs": [
    {
     "name": "stdout",
     "output_type": "stream",
     "text": [
      "Requirement already satisfied: requests in c:\\users\\axelcasasespinosa\\appdata\\local\\programs\\python\\python313\\lib\\site-packages (2.32.4)\n",
      "Requirement already satisfied: charset_normalizer<4,>=2 in c:\\users\\axelcasasespinosa\\appdata\\local\\programs\\python\\python313\\lib\\site-packages (from requests) (3.4.2)\n",
      "Requirement already satisfied: idna<4,>=2.5 in c:\\users\\axelcasasespinosa\\appdata\\local\\programs\\python\\python313\\lib\\site-packages (from requests) (3.10)\n",
      "Requirement already satisfied: urllib3<3,>=1.21.1 in c:\\users\\axelcasasespinosa\\appdata\\local\\programs\\python\\python313\\lib\\site-packages (from requests) (2.5.0)\n",
      "Requirement already satisfied: certifi>=2017.4.17 in c:\\users\\axelcasasespinosa\\appdata\\local\\programs\\python\\python313\\lib\\site-packages (from requests) (2025.7.9)\n",
      "Note: you may need to restart the kernel to use updated packages.\n"
     ]
    },
    {
     "name": "stderr",
     "output_type": "stream",
     "text": [
      "\n",
      "[notice] A new release of pip is available: 25.1.1 -> 25.2\n",
      "[notice] To update, run: python.exe -m pip install --upgrade pip\n"
     ]
    }
   ],
   "source": [
    "pip install requests"
   ]
  },
  {
   "cell_type": "code",
   "execution_count": null,
   "id": "23a4fb72",
   "metadata": {},
   "outputs": [],
   "source": [
    "# Geocode an address (address -> coordinates)\n",
    "from dotenv import load_dotenv\n",
    "import os\n",
    "from opencage.geocoder import OpenCageGeocode\n",
    "\n",
    "load_dotenv()\n",
    "key = os.getenv('OPENCAGE_API_KEY')\n",
    "geocoder = OpenCageGeocode(key)\n",
    "\n",
    "# Enter your address below\n",
    "address = 'São Paulo, Brazil'\n",
    "results = geocoder.geocode(address)\n",
    "\n",
    "if results:\n",
    "    lat = results[0]['geometry']['lat']\n",
    "    lng = results[0]['geometry']['lng']\n",
    "    print(f'Coordinates for \"{address}\":')\n",
    "    print(f'Latitude: {lat}, Longitude: {lng}')\n",
    "else:\n",
    "    print('No results found.')"
   ]
  },
  {
   "cell_type": "code",
   "execution_count": 6,
   "id": "79678ef4",
   "metadata": {},
   "outputs": [
    {
     "name": "stdout",
     "output_type": "stream",
     "text": [
      "Address for coordinates (-8.393900185710795, -74.58827218108304):\n",
      "unnamed road, Shinambari, Yarinacocha 25003, Peru\n"
     ]
    }
   ],
   "source": [
    "# Reverse geocode coordinates (coordinates -> address)\n",
    "from dotenv import load_dotenv\n",
    "import os\n",
    "from opencage.geocoder import OpenCageGeocode\n",
    "\n",
    "load_dotenv()\n",
    "key = os.getenv('OPENCAGE_API_KEY')\n",
    "geocoder = OpenCageGeocode(key)\n",
    "\n",
    "# Enter your coordinates below\n",
    "latitude = -8.393900185710795\n",
    "longitude = -74.58827218108304\n",
    "results = geocoder.reverse_geocode(latitude, longitude)\n",
    "\n",
    "if results:\n",
    "    address = results[0]['formatted']\n",
    "    print(f'Address for coordinates ({latitude}, {longitude}):')\n",
    "    print(address)\n",
    "else:\n",
    "    print('No results found.')"
   ]
  },
  {
   "cell_type": "markdown",
   "id": "7304ca9c",
   "metadata": {},
   "source": [
    "## "
   ]
  },
  {
   "cell_type": "markdown",
   "id": "a91c61be",
   "metadata": {},
   "source": [
    "## Running from CLI\n",
    "\n",
    "You can also run geocoding in bulk using the CLI tool.\n",
    "\n",
    "```bash\n",
    "opencage forward --api-key dccd2420401b48bda813c3e2daeacae5 --input addresses_utf8.csv --output coordinates.csv\n",
    "opencage forward --api-key dccd2420401b48bda813c3e2daeacae5 --input addresses.csv --output coordinates.csv --optional-api-params 'language=es'\n",
    "\n",
    "````"
   ]
  },
  {
   "cell_type": "code",
   "execution_count": null,
   "id": "a883c73d",
   "metadata": {},
   "outputs": [],
   "source": [
    "# Procesar archivo de coordenadas y guardar direcciones en un CSV\n",
    "import csv\n",
    "from dotenv import load_dotenv\n",
    "import os\n",
    "from opencage.geocoder import OpenCageGeocode\n",
    "\n",
    "load_dotenv()\n",
    "key = os.getenv('OPENCAGE_API_KEY')\n",
    "geocoder = OpenCageGeocode(key)\n",
    "\n",
    "input_file = 'prueba-val.txt'\n",
    "output_file = 'resultados.csv'\n",
    "\n",
    "with open(input_file, 'r', encoding='utf-8') as f_in, open(output_file, 'w', newline='', encoding='utf-8') as f_out:\n",
    "    writer = csv.writer(f_out)\n",
    "    writer.writerow(['latitude', 'longitude', 'address'])\n",
    "    for line in f_in:\n",
    "        line = line.strip()\n",
    "        if not line:\n",
    "            continue\n",
    "        try:\n",
    "            lat, lng = map(float, line.split(','))\n",
    "            results = geocoder.reverse_geocode(lat, lng)\n",
    "            address = results[0]['formatted'] if results else 'No result'\n",
    "            writer.writerow([lat, lng, address])\n",
    "        except Exception as e:\n",
    "            writer.writerow([line, '', f'Error: {e}'])\n",
    "print(f'Resultados guardados en {output_file}')"
   ]
  }
 ],
 "metadata": {
  "kernelspec": {
   "display_name": "Python 3",
   "language": "python",
   "name": "python3"
  },
  "language_info": {
   "codemirror_mode": {
    "name": "ipython",
    "version": 3
   },
   "file_extension": ".py",
   "mimetype": "text/x-python",
   "name": "python",
   "nbconvert_exporter": "python",
   "pygments_lexer": "ipython3",
   "version": "3.13.5"
  }
 },
 "nbformat": 4,
 "nbformat_minor": 5
}
